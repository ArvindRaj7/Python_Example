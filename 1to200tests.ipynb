{
 "cells": [
  {
   "cell_type": "markdown",
   "id": "2a03ca59-c452-4885-9532-742246f8b105",
   "metadata": {},
   "source": [
    "# Sum the numbers from 1 to 200 with Python. BONUS: Do it in one line!"
   ]
  },
  {
   "cell_type": "code",
   "execution_count": 1,
   "id": "3caa14ad-849c-4c0d-b4c2-bdb1a6ff2783",
   "metadata": {},
   "outputs": [
    {
     "data": {
      "text/plain": [
       "'C:\\\\Users\\\\rajar\\\\Coding for Cornell'"
      ]
     },
     "execution_count": 1,
     "metadata": {},
     "output_type": "execute_result"
    }
   ],
   "source": [
    "# get directory path\n",
    "\n",
    "import os\n",
    "path = os.getcwd()\n",
    "path"
   ]
  },
  {
   "cell_type": "raw",
   "id": "7dc50a50-1956-4ca6-9329-a78b83b155a3",
   "metadata": {},
   "source": [
    "C:\\Users\\rajar\\Coding for Cornell"
   ]
  },
  {
   "cell_type": "code",
   "execution_count": 2,
   "id": "db51e006-c822-47d9-90e6-e3534134cecd",
   "metadata": {},
   "outputs": [
    {
     "data": {
      "text/plain": [
       "'C:\\\\Users\\\\rajar\\\\Coding for Cornell'"
      ]
     },
     "execution_count": 2,
     "metadata": {},
     "output_type": "execute_result"
    }
   ],
   "source": [
    "os.chdir(r\"C:\\Users\\rajar\\Coding for Cornell\") \n",
    "path = os.getcwd()\n",
    "path"
   ]
  },
  {
   "cell_type": "code",
   "execution_count": 3,
   "id": "b4851430-f738-4ae6-a007-179b860f2318",
   "metadata": {},
   "outputs": [
    {
     "name": "stdout",
     "output_type": "stream",
     "text": [
      "20100\n"
     ]
    }
   ],
   "source": [
    "# Loop + 1 while variable j is <= 200\n",
    "j = 2\n",
    "sumd = 1\n",
    "while j <= 200:\n",
    "    sumd = sumd + j\n",
    "   # print(sumd)\n",
    "    j = j +1\n",
    "print(sumd)"
   ]
  },
  {
   "cell_type": "code",
   "execution_count": 4,
   "id": "e25b6db7-dad9-4a9c-9aa5-4660a936def0",
   "metadata": {},
   "outputs": [
    {
     "data": {
      "text/plain": [
       "20100"
      ]
     },
     "execution_count": 4,
     "metadata": {},
     "output_type": "execute_result"
    }
   ],
   "source": [
    "sum_list = [i for i in range(201)] #this is a list comprehension\n",
    "summed_list = sum(sum_list)\n",
    "summed_list"
   ]
  },
  {
   "cell_type": "code",
   "execution_count": 5,
   "id": "c906ae46-0515-47e5-8609-e896c9a53148",
   "metadata": {},
   "outputs": [
    {
     "name": "stdout",
     "output_type": "stream",
     "text": [
      "20100\n"
     ]
    }
   ],
   "source": [
    "print(sum([i for i in range(201)]))"
   ]
  },
  {
   "cell_type": "code",
   "execution_count": null,
   "id": "d5d72d2b-9f7b-4b32-a830-0a40cdfacc02",
   "metadata": {},
   "outputs": [],
   "source": []
  }
 ],
 "metadata": {
  "kernelspec": {
   "display_name": "Python [conda env:base] *",
   "language": "python",
   "name": "conda-base-py"
  },
  "language_info": {
   "codemirror_mode": {
    "name": "ipython",
    "version": 3
   },
   "file_extension": ".py",
   "mimetype": "text/x-python",
   "name": "python",
   "nbconvert_exporter": "python",
   "pygments_lexer": "ipython3",
   "version": "3.13.5"
  }
 },
 "nbformat": 4,
 "nbformat_minor": 5
}
